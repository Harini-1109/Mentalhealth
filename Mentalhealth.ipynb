{
  "cells": [
    {
      "cell_type": "markdown",
      "metadata": {
        "id": "view-in-github",
        "colab_type": "text"
      },
      "source": [
        "<a href=\"https://colab.research.google.com/github/Harini-1109/Mentalhealth/blob/main/Mentalhealth.ipynb\" target=\"_parent\"><img src=\"https://colab.research.google.com/assets/colab-badge.svg\" alt=\"Open In Colab\"/></a>"
      ]
    },
    {
      "cell_type": "code",
      "execution_count": null,
      "id": "5560fb0d-d990-44c4-a9ed-63888c2a8af1",
      "metadata": {
        "id": "5560fb0d-d990-44c4-a9ed-63888c2a8af1",
        "outputId": "7ecfecd5-fad4-4aae-db03-954bb1d2a769"
      },
      "outputs": [
        {
          "name": "stderr",
          "output_type": "stream",
          "text": [
            "C:\\Users\\harin\\AppData\\Local\\Temp\\ipykernel_2820\\2127056190.py:8: DtypeWarning: Columns (3,4,5,6,7,8,9,10,11,12,13,14,15,16,17,18,19,20,21,22,23,24,25,26,27,28,29,30,31,32,33,34,35,36,37,38,39,40,41,42,43,44,45,46,47,48,49,50,51,52,53,54,55,56,57,58,59,60,61,62,63,64,65,66,67,68,69,70,71,72,73,74,75,76,77,78) have mixed types. Specify dtype option on import or set low_memory=False.\n",
            "  df = pd.read_csv(file_path)\n"
          ]
        },
        {
          "name": "stdout",
          "output_type": "stream",
          "text": [
            "Initial Data Overview:\n",
            "<class 'pandas.core.frame.DataFrame'>\n",
            "RangeIndex: 488738 entries, 0 to 488737\n",
            "Data columns (total 79 columns):\n",
            " #   Column       Non-Null Count   Dtype \n",
            "---  ------       --------------   ----- \n",
            " 0   Title        488608 non-null  object\n",
            " 1   Text         488573 non-null  object\n",
            " 2   Subreddit    488535 non-null  object\n",
            " 3   Unnamed: 3   66 non-null      object\n",
            " 4   Unnamed: 4   60 non-null      object\n",
            " 5   Unnamed: 5   49 non-null      object\n",
            " 6   Unnamed: 6   41 non-null      object\n",
            " 7   Unnamed: 7   39 non-null      object\n",
            " 8   Unnamed: 8   31 non-null      object\n",
            " 9   Unnamed: 9   27 non-null      object\n",
            " 10  Unnamed: 10  19 non-null      object\n",
            " 11  Unnamed: 11  13 non-null      object\n",
            " 12  Unnamed: 12  11 non-null      object\n",
            " 13  Unnamed: 13  10 non-null      object\n",
            " 14  Unnamed: 14  9 non-null       object\n",
            " 15  Unnamed: 15  8 non-null       object\n",
            " 16  Unnamed: 16  6 non-null       object\n",
            " 17  Unnamed: 17  6 non-null       object\n",
            " 18  Unnamed: 18  5 non-null       object\n",
            " 19  Unnamed: 19  3 non-null       object\n",
            " 20  Unnamed: 20  3 non-null       object\n",
            " 21  Unnamed: 21  1 non-null       object\n",
            " 22  Unnamed: 22  1 non-null       object\n",
            " 23  Unnamed: 23  1 non-null       object\n",
            " 24  Unnamed: 24  1 non-null       object\n",
            " 25  Unnamed: 25  1 non-null       object\n",
            " 26  Unnamed: 26  1 non-null       object\n",
            " 27  Unnamed: 27  1 non-null       object\n",
            " 28  Unnamed: 28  1 non-null       object\n",
            " 29  Unnamed: 29  1 non-null       object\n",
            " 30  Unnamed: 30  1 non-null       object\n",
            " 31  Unnamed: 31  1 non-null       object\n",
            " 32  Unnamed: 32  1 non-null       object\n",
            " 33  Unnamed: 33  1 non-null       object\n",
            " 34  Unnamed: 34  1 non-null       object\n",
            " 35  Unnamed: 35  1 non-null       object\n",
            " 36  Unnamed: 36  1 non-null       object\n",
            " 37  Unnamed: 37  1 non-null       object\n",
            " 38  Unnamed: 38  1 non-null       object\n",
            " 39  Unnamed: 39  1 non-null       object\n",
            " 40  Unnamed: 40  1 non-null       object\n",
            " 41  Unnamed: 41  1 non-null       object\n",
            " 42  Unnamed: 42  1 non-null       object\n",
            " 43  Unnamed: 43  1 non-null       object\n",
            " 44  Unnamed: 44  1 non-null       object\n",
            " 45  Unnamed: 45  1 non-null       object\n",
            " 46  Unnamed: 46  1 non-null       object\n",
            " 47  Unnamed: 47  1 non-null       object\n",
            " 48  Unnamed: 48  1 non-null       object\n",
            " 49  Unnamed: 49  1 non-null       object\n",
            " 50  Unnamed: 50  1 non-null       object\n",
            " 51  Unnamed: 51  1 non-null       object\n",
            " 52  Unnamed: 52  1 non-null       object\n",
            " 53  Unnamed: 53  1 non-null       object\n",
            " 54  Unnamed: 54  1 non-null       object\n",
            " 55  Unnamed: 55  1 non-null       object\n",
            " 56  Unnamed: 56  1 non-null       object\n",
            " 57  Unnamed: 57  1 non-null       object\n",
            " 58  Unnamed: 58  1 non-null       object\n",
            " 59  Unnamed: 59  1 non-null       object\n",
            " 60  Unnamed: 60  1 non-null       object\n",
            " 61  Unnamed: 61  1 non-null       object\n",
            " 62  Unnamed: 62  1 non-null       object\n",
            " 63  Unnamed: 63  1 non-null       object\n",
            " 64  Unnamed: 64  1 non-null       object\n",
            " 65  Unnamed: 65  1 non-null       object\n",
            " 66  Unnamed: 66  1 non-null       object\n",
            " 67  Unnamed: 67  1 non-null       object\n",
            " 68  Unnamed: 68  1 non-null       object\n",
            " 69  Unnamed: 69  1 non-null       object\n",
            " 70  Unnamed: 70  1 non-null       object\n",
            " 71  Unnamed: 71  1 non-null       object\n",
            " 72  Unnamed: 72  1 non-null       object\n",
            " 73  Unnamed: 73  1 non-null       object\n",
            " 74  Unnamed: 74  1 non-null       object\n",
            " 75  Unnamed: 75  1 non-null       object\n",
            " 76  Unnamed: 76  1 non-null       object\n",
            " 77  Unnamed: 77  1 non-null       object\n",
            " 78  Unnamed: 78  1 non-null       object\n",
            "dtypes: object(79)\n",
            "memory usage: 294.6+ MB\n",
            "None\n"
          ]
        }
      ],
      "source": [
        "#import libraries\n",
        "import pandas as pd\n",
        "\n",
        "# Set the file path (modify it if needed for local access)\n",
        "file_path = \"Mental-health-related-subreddits.csv\"\n",
        "\n",
        "# Load the CSV file\n",
        "df = pd.read_csv(file_path)\n",
        "\n",
        "# Show basic info\n",
        "print(\"Initial Data Overview:\")\n",
        "print(df.info())"
      ]
    },
    {
      "cell_type": "code",
      "execution_count": null,
      "id": "645100af-c028-4096-9361-2454ff6f44f1",
      "metadata": {
        "id": "645100af-c028-4096-9361-2454ff6f44f1",
        "outputId": "d81dbc90-af50-4475-df19-0bd4d2d1e22d"
      },
      "outputs": [
        {
          "name": "stdout",
          "output_type": "stream",
          "text": [
            "\n",
            "Sample Data:\n",
            "                                               Title  \\\n",
            "0                            exposure does not work!   \n",
            "1  Panic attack? derealization? can't go to docto...   \n",
            "2                 How long can a panic attack last?!   \n",
            "3                                    Stepping stones   \n",
            "4  Coping with anxiety over climate change, on th...   \n",
            "\n",
            "                                                Text Subreddit Unnamed: 3  \\\n",
            "0  I have struggled with social anxiety from chil...   Anxiety        NaN   \n",
            "1  Back in March (I know, a while ago D:), I woke...   Anxiety        NaN   \n",
            "2  I've been withdrawing from medicines lately (e...   Anxiety        NaN   \n",
            "3  First time poster, long time lurker. \\n\\nI've ...   Anxiety        NaN   \n",
            "4  Hi all,\\n\\nI made a throwaway account as my ma...   Anxiety        NaN   \n",
            "\n",
            "  Unnamed: 4 Unnamed: 5 Unnamed: 6 Unnamed: 7 Unnamed: 8 Unnamed: 9  ...  \\\n",
            "0        NaN        NaN        NaN        NaN        NaN        NaN  ...   \n",
            "1        NaN        NaN        NaN        NaN        NaN        NaN  ...   \n",
            "2        NaN        NaN        NaN        NaN        NaN        NaN  ...   \n",
            "3        NaN        NaN        NaN        NaN        NaN        NaN  ...   \n",
            "4        NaN        NaN        NaN        NaN        NaN        NaN  ...   \n",
            "\n",
            "  Unnamed: 69 Unnamed: 70 Unnamed: 71 Unnamed: 72 Unnamed: 73 Unnamed: 74  \\\n",
            "0         NaN         NaN         NaN         NaN         NaN         NaN   \n",
            "1         NaN         NaN         NaN         NaN         NaN         NaN   \n",
            "2         NaN         NaN         NaN         NaN         NaN         NaN   \n",
            "3         NaN         NaN         NaN         NaN         NaN         NaN   \n",
            "4         NaN         NaN         NaN         NaN         NaN         NaN   \n",
            "\n",
            "  Unnamed: 75 Unnamed: 76 Unnamed: 77 Unnamed: 78  \n",
            "0         NaN         NaN         NaN         NaN  \n",
            "1         NaN         NaN         NaN         NaN  \n",
            "2         NaN         NaN         NaN         NaN  \n",
            "3         NaN         NaN         NaN         NaN  \n",
            "4         NaN         NaN         NaN         NaN  \n",
            "\n",
            "[5 rows x 79 columns]\n"
          ]
        }
      ],
      "source": [
        "# Show the first few rows\n",
        "print(\"\\nSample Data:\")\n",
        "print(df.head())"
      ]
    },
    {
      "cell_type": "code",
      "execution_count": null,
      "id": "a5d3b665-dbdc-4e1b-8ff1-5d40e80b0bb6",
      "metadata": {
        "id": "a5d3b665-dbdc-4e1b-8ff1-5d40e80b0bb6"
      },
      "outputs": [],
      "source": [
        "df.dropna()"
      ]
    }
  ],
  "metadata": {
    "kernelspec": {
      "display_name": "Python [conda env:base] *",
      "language": "python",
      "name": "conda-base-py"
    },
    "language_info": {
      "codemirror_mode": {
        "name": "ipython",
        "version": 3
      },
      "file_extension": ".py",
      "mimetype": "text/x-python",
      "name": "python",
      "nbconvert_exporter": "python",
      "pygments_lexer": "ipython3",
      "version": "3.12.7"
    },
    "colab": {
      "provenance": [],
      "gpuType": "T4",
      "include_colab_link": true
    },
    "accelerator": "GPU"
  },
  "nbformat": 4,
  "nbformat_minor": 5
}